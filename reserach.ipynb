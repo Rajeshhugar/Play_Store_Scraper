{
 "cells": [
  {
   "cell_type": "code",
   "execution_count": 1,
   "metadata": {},
   "outputs": [
    {
     "name": "stderr",
     "output_type": "stream",
     "text": [
      "'pip' is not recognized as an internal or external command,\n",
      "operable program or batch file.\n"
     ]
    }
   ],
   "source": [
    "!pip install google-api-python-client"
   ]
  },
  {
   "cell_type": "code",
   "execution_count": 12,
   "metadata": {},
   "outputs": [],
   "source": [
    "from google.oauth2 import service_account\n",
    "from googleapiclient.discovery import build\n",
    "import pandas as pd \n",
    "from datetime import datetime\n",
    "import os \n",
    "from google_play_scraper import Sort, reviews_all\n",
    "from google.oauth2 import service_account\n",
    "from googleapiclient.discovery import build\n",
    "from googleapiclient.http import MediaFileUpload \n"
   ]
  },
  {
   "cell_type": "code",
   "execution_count": 10,
   "metadata": {},
   "outputs": [
    {
     "name": "stdout",
     "output_type": "stream",
     "text": [
      "Defaulting to user installation because normal site-packages is not writeable\n",
      "Collecting google_play_scraper\n",
      "  Downloading google_play_scraper-1.2.6-py3-none-any.whl.metadata (50 kB)\n",
      "     ---------------------------------------- 0.0/50.2 kB ? eta -:--:--\n",
      "     -------- ------------------------------- 10.2/50.2 kB ? eta -:--:--\n",
      "     -------- ------------------------------- 10.2/50.2 kB ? eta -:--:--\n",
      "     --------------- ----------------------- 20.5/50.2 kB 93.9 kB/s eta 0:00:01\n",
      "     -------------------------------------- 50.2/50.2 kB 256.4 kB/s eta 0:00:00\n",
      "Downloading google_play_scraper-1.2.6-py3-none-any.whl (28 kB)\n",
      "Installing collected packages: google_play_scraper\n",
      "Successfully installed google_play_scraper-1.2.6\n"
     ]
    }
   ],
   "source": [
    "!pip install google_play_scraper "
   ]
  },
  {
   "cell_type": "code",
   "execution_count": 13,
   "metadata": {},
   "outputs": [
    {
     "name": "stdout",
     "output_type": "stream",
     "text": [
      "File uploaded: 1bJ8uVvHdY0o3GVoPTU0zW50nR8-XFi8x\n"
     ]
    }
   ],
   "source": [
    "\n",
    "# Define necessary constants\n",
    "SERVICE_ACCOUNT_FILE = 'service_account.json'\n",
    "SCOPES = ['https://www.googleapis.com/auth/drive']\n",
    "PARENT_FOLDER_ID = '1yaX2B2xNmfUi_qTlmsPqDFHjGeTBf4Xw'  # Update with your parent folder ID\n",
    "\n",
    "def authenticate():\n",
    "    creds = service_account.Credentials.from_service_account_file(SERVICE_ACCOUNT_FILE, scopes=SCOPES)\n",
    "    return creds\n",
    "\n",
    "def upload_data(file_path):\n",
    "    creds = authenticate()\n",
    "    service = build(\"drive\", \"v3\", credentials=creds)\n",
    "\n",
    "    file_metadata = {\n",
    "        \"app_store\": \"Jio\",\n",
    "        \"parents\": [PARENT_FOLDER_ID],  # Use 'parents' instead of 'path', and provide the folder ID\n",
    "        \"name\": file_path.split(\"/\")[-1]}  # Use the file name as the 'name' attribute\n",
    "    \n",
    "    \n",
    "    media_body = MediaFileUpload(file_path)  # Import MediaFileUpload from googleapiclient.http\n",
    "\n",
    "    file = service.files().create(\n",
    "        body=file_metadata,\n",
    "        media_body=media_body,\n",
    "        fields='id'\n",
    "    ).execute()\n",
    "\n",
    "    print('File uploaded:', file.get('id'))\n",
    "\n",
    "# Example usage\n",
    "file_path = 'movies_db.xlsx'  # Update with the path to your file\n",
    "upload_data(file_path)\n"
   ]
  },
  {
   "cell_type": "code",
   "execution_count": 1,
   "metadata": {},
   "outputs": [
    {
     "name": "stdout",
     "output_type": "stream",
     "text": [
      "(995, 11)\n",
      "File uploaded: 1SI-_GRgd-va4ZikHEPVuWJKJTNuWc4pt\n",
      "(995, 11)\n",
      "File uploaded: 1LJ80fEV9Lj7hK7wf1lLQxQTgQXQmlEph\n",
      "(1592, 11)\n",
      "File uploaded: 1Od49Sedkp8PXVz0tUljVTbjreZ44Ov29\n"
     ]
    }
   ],
   "source": [
    "from google.oauth2 import service_account\n",
    "from googleapiclient.discovery import build\n",
    "import pandas as pd\n",
    "from datetime import datetime\n",
    "import os\n",
    "from google_play_scraper import Sort, reviews_all\n",
    "from googleapiclient.http import MediaFileUpload\n",
    "\n",
    "# Define necessary constants\n",
    "SERVICE_ACCOUNT_FILE = 'service_account.json'\n",
    "SCOPES = ['https://www.googleapis.com/auth/drive']\n",
    "FOLDER_IDS = {\n",
    "    \"com.jio.media.jiobeats\": \"1xMbImCG8IXb1uLpZZ01-SgrwHHiqoj86\",\n",
    "    \"com.spotify.music\": \"1FYVbhYihhJVjLBbhtHaTaH3WeeSD96GG\",\n",
    "    \"com.bsbportal.music\": \"1UrTHLD0tOHQSe7-tO74Ua7CPoWuxqE2E\"\n",
    "}\n",
    "\n",
    "def authenticate():\n",
    "    creds = service_account.Credentials.from_service_account_file(SERVICE_ACCOUNT_FILE, scopes=SCOPES)\n",
    "    return creds\n",
    "\n",
    "def upload_data(file_path, folder_id):\n",
    "    creds = authenticate()\n",
    "    service = build(\"drive\", \"v3\", credentials=creds)\n",
    "\n",
    "    media_body = MediaFileUpload(file_path)\n",
    "\n",
    "    file_metadata = {\n",
    "        'name': os.path.basename(file_path),\n",
    "        'parents': [folder_id]\n",
    "    }\n",
    "\n",
    "    try:\n",
    "        file = service.files().create(\n",
    "            body=file_metadata,\n",
    "            media_body=media_body,\n",
    "            fields='id'\n",
    "        ).execute()\n",
    "\n",
    "        print('File uploaded:', file.get('id'))\n",
    "    except Exception as e:\n",
    "        print('An error occurred while uploading the file:', str(e))\n",
    "\n",
    "app_id_lst = [\"com.jio.media.jiobeats\", \"com.spotify.music\", \"com.bsbportal.music\"]\n",
    "\n",
    "for app_id in app_id_lst:\n",
    "    result_all = []\n",
    "    for _ in range(1, 15):\n",
    "        result = reviews_all(\n",
    "            app_id,\n",
    "            sleep_milliseconds=0,\n",
    "            lang='en',\n",
    "            country='in',\n",
    "            sort=Sort.NEWEST\n",
    "        )\n",
    "        result_all.extend(result)\n",
    "    \n",
    "    df = pd.DataFrame(result_all)\n",
    "    df = df.drop_duplicates()\n",
    "    print(df.shape)\n",
    "    \n",
    "    today = datetime.now().strftime(\"%m-%d-%Y_%H%M%S\")\n",
    "    folder_id = FOLDER_IDS.get(app_id)\n",
    "    \n",
    "    if folder_id:\n",
    "        file_name = f'reviews-{app_id}_{today}.xlsx'\n",
    "        file_path = os.path.join('data', file_name)\n",
    "        df.to_excel(file_path, index=False)\n",
    "        upload_data(file_path, folder_id)\n"
   ]
  },
  {
   "cell_type": "code",
   "execution_count": null,
   "metadata": {},
   "outputs": [],
   "source": []
  }
 ],
 "metadata": {
  "kernelspec": {
   "display_name": "base",
   "language": "python",
   "name": "python3"
  },
  "language_info": {
   "codemirror_mode": {
    "name": "ipython",
    "version": 3
   },
   "file_extension": ".py",
   "mimetype": "text/x-python",
   "name": "python",
   "nbconvert_exporter": "python",
   "pygments_lexer": "ipython3",
   "version": "3.12.3"
  },
  "orig_nbformat": 4,
  "vscode": {
   "interpreter": {
    "hash": "67bfac4f4aefe1c16f1836a62d55b6e6baa7aba1ac5ce70e93ee8e90eb4f073a"
   }
  }
 },
 "nbformat": 4,
 "nbformat_minor": 2
}
